{
 "cells": [
  {
   "cell_type": "code",
   "execution_count": 22,
   "id": "71380691",
   "metadata": {
    "scrolled": true
   },
   "outputs": [],
   "source": [
    "import pandas as pd\n",
    "from io import StringIO\n",
    "import plotly.express as px\n",
    "\n",
    "# Nombre del archivo\n",
    "nombre_archivo = \"48434.csv\"\n",
    "\n",
    "# Abrir el archivo\n",
    "try:\n",
    "    with open(nombre_archivo, 'r') as archivo:\n",
    "        # Leer líneas del archivo\n",
    "        lineas = archivo.readlines()\n",
    "\n",
    "        # Concatenar las líneas en una cadena\n",
    "        contenido = ''.join(lineas)\n",
    "\n",
    "        # Crear un DataFrame\n",
    "        df = pd.read_csv(StringIO(contenido), delimiter=';')\n",
    "\n",
    "except FileNotFoundError:\n",
    "    print(f\"El archivo {nombre_archivo} no fue encontrado.\")\n",
    "except Exception as e:\n",
    "    print(f\"Ocurrió un error: {e}\")\n"
   ]
  },
  {
   "cell_type": "code",
   "execution_count": 23,
   "id": "305c590c",
   "metadata": {},
   "outputs": [
    {
     "data": {
      "text/html": [
       "<div>\n",
       "<style scoped>\n",
       "    .dataframe tbody tr th:only-of-type {\n",
       "        vertical-align: middle;\n",
       "    }\n",
       "\n",
       "    .dataframe tbody tr th {\n",
       "        vertical-align: top;\n",
       "    }\n",
       "\n",
       "    .dataframe thead th {\n",
       "        text-align: right;\n",
       "    }\n",
       "</style>\n",
       "<table border=\"1\" class=\"dataframe\">\n",
       "  <thead>\n",
       "    <tr style=\"text-align: right;\">\n",
       "      <th></th>\n",
       "      <th>Continentes</th>\n",
       "      <th>Total Nacional</th>\n",
       "      <th>Comunidades y Ciudades Autónomas</th>\n",
       "      <th>Periodo</th>\n",
       "      <th>Total</th>\n",
       "    </tr>\n",
       "  </thead>\n",
       "  <tbody>\n",
       "    <tr>\n",
       "      <th>0</th>\n",
       "      <td>Europa</td>\n",
       "      <td>Total Nacional</td>\n",
       "      <td>01 Andalucía</td>\n",
       "      <td>2021</td>\n",
       "      <td>15.378.000</td>\n",
       "    </tr>\n",
       "    <tr>\n",
       "      <th>1</th>\n",
       "      <td>Europa</td>\n",
       "      <td>Total Nacional</td>\n",
       "      <td>02 Aragón</td>\n",
       "      <td>2021</td>\n",
       "      <td>967.000</td>\n",
       "    </tr>\n",
       "    <tr>\n",
       "      <th>2</th>\n",
       "      <td>Europa</td>\n",
       "      <td>Total Nacional</td>\n",
       "      <td>03 Asturias, Principado de</td>\n",
       "      <td>2021</td>\n",
       "      <td>1.251.000</td>\n",
       "    </tr>\n",
       "    <tr>\n",
       "      <th>3</th>\n",
       "      <td>Europa</td>\n",
       "      <td>Total Nacional</td>\n",
       "      <td>04 Balears, Illes</td>\n",
       "      <td>2021</td>\n",
       "      <td>5.950.000</td>\n",
       "    </tr>\n",
       "    <tr>\n",
       "      <th>4</th>\n",
       "      <td>Europa</td>\n",
       "      <td>Total Nacional</td>\n",
       "      <td>05 Canarias</td>\n",
       "      <td>2021</td>\n",
       "      <td>10.995.000</td>\n",
       "    </tr>\n",
       "  </tbody>\n",
       "</table>\n",
       "</div>"
      ],
      "text/plain": [
       "  Continentes  Total Nacional Comunidades y Ciudades Autónomas  Periodo  \\\n",
       "0      Europa  Total Nacional                     01 Andalucía     2021   \n",
       "1      Europa  Total Nacional                        02 Aragón     2021   \n",
       "2      Europa  Total Nacional       03 Asturias, Principado de     2021   \n",
       "3      Europa  Total Nacional                04 Balears, Illes     2021   \n",
       "4      Europa  Total Nacional                      05 Canarias     2021   \n",
       "\n",
       "        Total  \n",
       "0  15.378.000  \n",
       "1     967.000  \n",
       "2   1.251.000  \n",
       "3   5.950.000  \n",
       "4  10.995.000  "
      ]
     },
     "execution_count": 23,
     "metadata": {},
     "output_type": "execute_result"
    }
   ],
   "source": [
    "# Mostrar primeras líneas\n",
    "\n",
    "df.head(5)"
   ]
  },
  {
   "cell_type": "code",
   "execution_count": 24,
   "id": "c1c1a2e0",
   "metadata": {},
   "outputs": [
    {
     "data": {
      "text/html": [
       "<div>\n",
       "<style scoped>\n",
       "    .dataframe tbody tr th:only-of-type {\n",
       "        vertical-align: middle;\n",
       "    }\n",
       "\n",
       "    .dataframe tbody tr th {\n",
       "        vertical-align: top;\n",
       "    }\n",
       "\n",
       "    .dataframe thead th {\n",
       "        text-align: right;\n",
       "    }\n",
       "</style>\n",
       "<table border=\"1\" class=\"dataframe\">\n",
       "  <thead>\n",
       "    <tr style=\"text-align: right;\">\n",
       "      <th></th>\n",
       "      <th>Continentes</th>\n",
       "      <th>Comunidades y Ciudades Autónomas</th>\n",
       "      <th>Total</th>\n",
       "    </tr>\n",
       "  </thead>\n",
       "  <tbody>\n",
       "    <tr>\n",
       "      <th>0</th>\n",
       "      <td>Europa</td>\n",
       "      <td>Andalucía</td>\n",
       "      <td>15378000</td>\n",
       "    </tr>\n",
       "    <tr>\n",
       "      <th>1</th>\n",
       "      <td>Europa</td>\n",
       "      <td>Aragón</td>\n",
       "      <td>967000</td>\n",
       "    </tr>\n",
       "    <tr>\n",
       "      <th>2</th>\n",
       "      <td>Europa</td>\n",
       "      <td>Asturias, Principado de</td>\n",
       "      <td>1251000</td>\n",
       "    </tr>\n",
       "    <tr>\n",
       "      <th>3</th>\n",
       "      <td>Europa</td>\n",
       "      <td>Balears, Illes</td>\n",
       "      <td>5950000</td>\n",
       "    </tr>\n",
       "    <tr>\n",
       "      <th>4</th>\n",
       "      <td>Europa</td>\n",
       "      <td>Canarias</td>\n",
       "      <td>10995000</td>\n",
       "    </tr>\n",
       "    <tr>\n",
       "      <th>...</th>\n",
       "      <td>...</td>\n",
       "      <td>...</td>\n",
       "      <td>...</td>\n",
       "    </tr>\n",
       "    <tr>\n",
       "      <th>71</th>\n",
       "      <td>Oceanía</td>\n",
       "      <td>Navarra, Comunidad Foral de</td>\n",
       "      <td>0</td>\n",
       "    </tr>\n",
       "    <tr>\n",
       "      <th>72</th>\n",
       "      <td>Oceanía</td>\n",
       "      <td>País Vasco</td>\n",
       "      <td>2000</td>\n",
       "    </tr>\n",
       "    <tr>\n",
       "      <th>73</th>\n",
       "      <td>Oceanía</td>\n",
       "      <td>Rioja, La</td>\n",
       "      <td>0</td>\n",
       "    </tr>\n",
       "    <tr>\n",
       "      <th>74</th>\n",
       "      <td>Oceanía</td>\n",
       "      <td>Ceuta</td>\n",
       "      <td>0</td>\n",
       "    </tr>\n",
       "    <tr>\n",
       "      <th>75</th>\n",
       "      <td>Oceanía</td>\n",
       "      <td>Melilla</td>\n",
       "      <td>0</td>\n",
       "    </tr>\n",
       "  </tbody>\n",
       "</table>\n",
       "<p>76 rows × 3 columns</p>\n",
       "</div>"
      ],
      "text/plain": [
       "   Continentes Comunidades y Ciudades Autónomas     Total\n",
       "0       Europa                        Andalucía  15378000\n",
       "1       Europa                           Aragón    967000\n",
       "2       Europa          Asturias, Principado de   1251000\n",
       "3       Europa                   Balears, Illes   5950000\n",
       "4       Europa                         Canarias  10995000\n",
       "..         ...                              ...       ...\n",
       "71    Oceanía       Navarra, Comunidad Foral de         0\n",
       "72    Oceanía                        País Vasco      2000\n",
       "73    Oceanía                         Rioja, La         0\n",
       "74    Oceanía                             Ceuta         0\n",
       "75    Oceanía                           Melilla         0\n",
       "\n",
       "[76 rows x 3 columns]"
      ]
     },
     "execution_count": 24,
     "metadata": {},
     "output_type": "execute_result"
    }
   ],
   "source": [
    "# Limpieza \n",
    "\n",
    "df = df.drop(columns=['Total Nacional']) \n",
    "df = df.drop(columns=['Periodo'])\n",
    "df['Total'] = df['Total'].replace('..', 0)\n",
    "df['Total'] = pd.to_numeric(df['Total'].replace('\\.', '', regex=True), errors='coerce')\n",
    "df['Comunidades y Ciudades Autónomas'] = df['Comunidades y Ciudades Autónomas'].str[3:]\n",
    "df"
   ]
  },
  {
   "cell_type": "code",
   "execution_count": 25,
   "id": "2c57524a",
   "metadata": {
    "scrolled": false
   },
   "outputs": [
    {
     "data": {
      "application/vnd.plotly.v1+json": {
       "config": {
        "plotlyServerURL": "https://plot.ly"
       },
       "data": [
        {
         "branchvalues": "total",
         "domain": {
          "x": [
           0,
           1
          ],
          "y": [
           0,
           1
          ]
         },
         "hovertemplate": "labels=%{label}<br>Total=%{value}<br>parent=%{parent}<br>id=%{id}<extra></extra>",
         "ids": [
          "América/Andalucía",
          "Asia/Andalucía",
          "Europa/Andalucía",
          "Oceanía /Andalucía",
          "América/Aragón",
          "Asia/Aragón",
          "Europa/Aragón",
          "Oceanía /Aragón",
          "América/Asturias, Principado de",
          "Asia/Asturias, Principado de",
          "Europa/Asturias, Principado de",
          "Oceanía /Asturias, Principado de",
          "América/Balears, Illes",
          "Asia/Balears, Illes",
          "Europa/Balears, Illes",
          "Oceanía /Balears, Illes",
          "América/Canarias",
          "Asia/Canarias",
          "Europa/Canarias",
          "Oceanía /Canarias",
          "América/Cantabria",
          "Asia/Cantabria",
          "Europa/Cantabria",
          "Oceanía /Cantabria",
          "América/Castilla - La Mancha",
          "Asia/Castilla - La Mancha",
          "Europa/Castilla - La Mancha",
          "Oceanía /Castilla - La Mancha",
          "América/Castilla y León",
          "Asia/Castilla y León",
          "Europa/Castilla y León",
          "Oceanía /Castilla y León",
          "América/Cataluña",
          "Asia/Cataluña",
          "Europa/Cataluña",
          "Oceanía /Cataluña",
          "América/Ceuta",
          "Asia/Ceuta",
          "Europa/Ceuta",
          "Oceanía /Ceuta",
          "América/Comunitat Valenciana",
          "Asia/Comunitat Valenciana",
          "Europa/Comunitat Valenciana",
          "Oceanía /Comunitat Valenciana",
          "América/Extremadura",
          "Asia/Extremadura",
          "Europa/Extremadura",
          "Oceanía /Extremadura",
          "América/Galicia",
          "Asia/Galicia",
          "Europa/Galicia",
          "Oceanía /Galicia",
          "América/Madrid, Comunidad de",
          "Asia/Madrid, Comunidad de",
          "Europa/Madrid, Comunidad de",
          "Oceanía /Madrid, Comunidad de",
          "América/Melilla",
          "Asia/Melilla",
          "Europa/Melilla",
          "Oceanía /Melilla",
          "América/Murcia, Región de",
          "Asia/Murcia, Región de",
          "Europa/Murcia, Región de",
          "Oceanía /Murcia, Región de",
          "América/Navarra, Comunidad Foral de",
          "Asia/Navarra, Comunidad Foral de",
          "Europa/Navarra, Comunidad Foral de",
          "Oceanía /Navarra, Comunidad Foral de",
          "América/País Vasco",
          "Asia/País Vasco",
          "Europa/País Vasco",
          "Oceanía /País Vasco",
          "América/Rioja, La",
          "Asia/Rioja, La",
          "Europa/Rioja, La",
          "Oceanía /Rioja, La",
          "América",
          "Asia",
          "Europa",
          "Oceanía "
         ],
         "labels": [
          "Andalucía",
          "Andalucía",
          "Andalucía",
          "Andalucía",
          "Aragón",
          "Aragón",
          "Aragón",
          "Aragón",
          "Asturias, Principado de",
          "Asturias, Principado de",
          "Asturias, Principado de",
          "Asturias, Principado de",
          "Balears, Illes",
          "Balears, Illes",
          "Balears, Illes",
          "Balears, Illes",
          "Canarias",
          "Canarias",
          "Canarias",
          "Canarias",
          "Cantabria",
          "Cantabria",
          "Cantabria",
          "Cantabria",
          "Castilla - La Mancha",
          "Castilla - La Mancha",
          "Castilla - La Mancha",
          "Castilla - La Mancha",
          "Castilla y León",
          "Castilla y León",
          "Castilla y León",
          "Castilla y León",
          "Cataluña",
          "Cataluña",
          "Cataluña",
          "Cataluña",
          "Ceuta",
          "Ceuta",
          "Ceuta",
          "Ceuta",
          "Comunitat Valenciana",
          "Comunitat Valenciana",
          "Comunitat Valenciana",
          "Comunitat Valenciana",
          "Extremadura",
          "Extremadura",
          "Extremadura",
          "Extremadura",
          "Galicia",
          "Galicia",
          "Galicia",
          "Galicia",
          "Madrid, Comunidad de",
          "Madrid, Comunidad de",
          "Madrid, Comunidad de",
          "Madrid, Comunidad de",
          "Melilla",
          "Melilla",
          "Melilla",
          "Melilla",
          "Murcia, Región de",
          "Murcia, Región de",
          "Murcia, Región de",
          "Murcia, Región de",
          "Navarra, Comunidad Foral de",
          "Navarra, Comunidad Foral de",
          "Navarra, Comunidad Foral de",
          "Navarra, Comunidad Foral de",
          "País Vasco",
          "País Vasco",
          "País Vasco",
          "País Vasco",
          "Rioja, La",
          "Rioja, La",
          "Rioja, La",
          "Rioja, La",
          "América",
          "Asia",
          "Europa",
          "Oceanía "
         ],
         "name": "",
         "parents": [
          "América",
          "Asia",
          "Europa",
          "Oceanía ",
          "América",
          "Asia",
          "Europa",
          "Oceanía ",
          "América",
          "Asia",
          "Europa",
          "Oceanía ",
          "América",
          "Asia",
          "Europa",
          "Oceanía ",
          "América",
          "Asia",
          "Europa",
          "Oceanía ",
          "América",
          "Asia",
          "Europa",
          "Oceanía ",
          "América",
          "Asia",
          "Europa",
          "Oceanía ",
          "América",
          "Asia",
          "Europa",
          "Oceanía ",
          "América",
          "Asia",
          "Europa",
          "Oceanía ",
          "América",
          "Asia",
          "Europa",
          "Oceanía ",
          "América",
          "Asia",
          "Europa",
          "Oceanía ",
          "América",
          "Asia",
          "Europa",
          "Oceanía ",
          "América",
          "Asia",
          "Europa",
          "Oceanía ",
          "América",
          "Asia",
          "Europa",
          "Oceanía ",
          "América",
          "Asia",
          "Europa",
          "Oceanía ",
          "América",
          "Asia",
          "Europa",
          "Oceanía ",
          "América",
          "Asia",
          "Europa",
          "Oceanía ",
          "América",
          "Asia",
          "Europa",
          "Oceanía ",
          "América",
          "Asia",
          "Europa",
          "Oceanía ",
          "",
          "",
          "",
          ""
         ],
         "type": "treemap",
         "values": [
          584000,
          68000,
          15378000,
          19000,
          19000,
          2000,
          967000,
          0,
          24000,
          1000,
          1251000,
          0,
          161000,
          21000,
          5950000,
          9000,
          124000,
          18000,
          10995000,
          10000,
          19000,
          1000,
          1136000,
          0,
          16000,
          1000,
          670000,
          0,
          36000,
          2000,
          1191000,
          0,
          752000,
          91000,
          9756000,
          18000,
          0,
          0,
          3000,
          0,
          321000,
          27000,
          10241000,
          8000,
          4000,
          0,
          337000,
          0,
          57000,
          3000,
          2365000,
          0,
          906000,
          52000,
          2870000,
          7000,
          0,
          0,
          3000,
          0,
          16000,
          3000,
          911000,
          0,
          11000,
          1000,
          269000,
          0,
          71000,
          5000,
          1003000,
          2000,
          7000,
          0,
          264000,
          0,
          3128000,
          296000,
          65560000,
          73000
         ]
        }
       ],
       "layout": {
        "annotations": [
         {
          "showarrow": false,
          "text": "Datos extraídos del <a href=\"https://www.ine.es/jaxiT3/Tabla.htm?t=48434&L=0\">Instituto Nacional de Estadística</a>",
          "x": 0.5,
          "xref": "paper",
          "y": -0.1,
          "yref": "paper"
         }
        ],
        "legend": {
         "tracegroupgap": 0
        },
        "template": {
         "data": {
          "bar": [
           {
            "error_x": {
             "color": "#2a3f5f"
            },
            "error_y": {
             "color": "#2a3f5f"
            },
            "marker": {
             "line": {
              "color": "#E5ECF6",
              "width": 0.5
             },
             "pattern": {
              "fillmode": "overlay",
              "size": 10,
              "solidity": 0.2
             }
            },
            "type": "bar"
           }
          ],
          "barpolar": [
           {
            "marker": {
             "line": {
              "color": "#E5ECF6",
              "width": 0.5
             },
             "pattern": {
              "fillmode": "overlay",
              "size": 10,
              "solidity": 0.2
             }
            },
            "type": "barpolar"
           }
          ],
          "carpet": [
           {
            "aaxis": {
             "endlinecolor": "#2a3f5f",
             "gridcolor": "white",
             "linecolor": "white",
             "minorgridcolor": "white",
             "startlinecolor": "#2a3f5f"
            },
            "baxis": {
             "endlinecolor": "#2a3f5f",
             "gridcolor": "white",
             "linecolor": "white",
             "minorgridcolor": "white",
             "startlinecolor": "#2a3f5f"
            },
            "type": "carpet"
           }
          ],
          "choropleth": [
           {
            "colorbar": {
             "outlinewidth": 0,
             "ticks": ""
            },
            "type": "choropleth"
           }
          ],
          "contour": [
           {
            "colorbar": {
             "outlinewidth": 0,
             "ticks": ""
            },
            "colorscale": [
             [
              0,
              "#0d0887"
             ],
             [
              0.1111111111111111,
              "#46039f"
             ],
             [
              0.2222222222222222,
              "#7201a8"
             ],
             [
              0.3333333333333333,
              "#9c179e"
             ],
             [
              0.4444444444444444,
              "#bd3786"
             ],
             [
              0.5555555555555556,
              "#d8576b"
             ],
             [
              0.6666666666666666,
              "#ed7953"
             ],
             [
              0.7777777777777778,
              "#fb9f3a"
             ],
             [
              0.8888888888888888,
              "#fdca26"
             ],
             [
              1,
              "#f0f921"
             ]
            ],
            "type": "contour"
           }
          ],
          "contourcarpet": [
           {
            "colorbar": {
             "outlinewidth": 0,
             "ticks": ""
            },
            "type": "contourcarpet"
           }
          ],
          "heatmap": [
           {
            "colorbar": {
             "outlinewidth": 0,
             "ticks": ""
            },
            "colorscale": [
             [
              0,
              "#0d0887"
             ],
             [
              0.1111111111111111,
              "#46039f"
             ],
             [
              0.2222222222222222,
              "#7201a8"
             ],
             [
              0.3333333333333333,
              "#9c179e"
             ],
             [
              0.4444444444444444,
              "#bd3786"
             ],
             [
              0.5555555555555556,
              "#d8576b"
             ],
             [
              0.6666666666666666,
              "#ed7953"
             ],
             [
              0.7777777777777778,
              "#fb9f3a"
             ],
             [
              0.8888888888888888,
              "#fdca26"
             ],
             [
              1,
              "#f0f921"
             ]
            ],
            "type": "heatmap"
           }
          ],
          "heatmapgl": [
           {
            "colorbar": {
             "outlinewidth": 0,
             "ticks": ""
            },
            "colorscale": [
             [
              0,
              "#0d0887"
             ],
             [
              0.1111111111111111,
              "#46039f"
             ],
             [
              0.2222222222222222,
              "#7201a8"
             ],
             [
              0.3333333333333333,
              "#9c179e"
             ],
             [
              0.4444444444444444,
              "#bd3786"
             ],
             [
              0.5555555555555556,
              "#d8576b"
             ],
             [
              0.6666666666666666,
              "#ed7953"
             ],
             [
              0.7777777777777778,
              "#fb9f3a"
             ],
             [
              0.8888888888888888,
              "#fdca26"
             ],
             [
              1,
              "#f0f921"
             ]
            ],
            "type": "heatmapgl"
           }
          ],
          "histogram": [
           {
            "marker": {
             "pattern": {
              "fillmode": "overlay",
              "size": 10,
              "solidity": 0.2
             }
            },
            "type": "histogram"
           }
          ],
          "histogram2d": [
           {
            "colorbar": {
             "outlinewidth": 0,
             "ticks": ""
            },
            "colorscale": [
             [
              0,
              "#0d0887"
             ],
             [
              0.1111111111111111,
              "#46039f"
             ],
             [
              0.2222222222222222,
              "#7201a8"
             ],
             [
              0.3333333333333333,
              "#9c179e"
             ],
             [
              0.4444444444444444,
              "#bd3786"
             ],
             [
              0.5555555555555556,
              "#d8576b"
             ],
             [
              0.6666666666666666,
              "#ed7953"
             ],
             [
              0.7777777777777778,
              "#fb9f3a"
             ],
             [
              0.8888888888888888,
              "#fdca26"
             ],
             [
              1,
              "#f0f921"
             ]
            ],
            "type": "histogram2d"
           }
          ],
          "histogram2dcontour": [
           {
            "colorbar": {
             "outlinewidth": 0,
             "ticks": ""
            },
            "colorscale": [
             [
              0,
              "#0d0887"
             ],
             [
              0.1111111111111111,
              "#46039f"
             ],
             [
              0.2222222222222222,
              "#7201a8"
             ],
             [
              0.3333333333333333,
              "#9c179e"
             ],
             [
              0.4444444444444444,
              "#bd3786"
             ],
             [
              0.5555555555555556,
              "#d8576b"
             ],
             [
              0.6666666666666666,
              "#ed7953"
             ],
             [
              0.7777777777777778,
              "#fb9f3a"
             ],
             [
              0.8888888888888888,
              "#fdca26"
             ],
             [
              1,
              "#f0f921"
             ]
            ],
            "type": "histogram2dcontour"
           }
          ],
          "mesh3d": [
           {
            "colorbar": {
             "outlinewidth": 0,
             "ticks": ""
            },
            "type": "mesh3d"
           }
          ],
          "parcoords": [
           {
            "line": {
             "colorbar": {
              "outlinewidth": 0,
              "ticks": ""
             }
            },
            "type": "parcoords"
           }
          ],
          "pie": [
           {
            "automargin": true,
            "type": "pie"
           }
          ],
          "scatter": [
           {
            "fillpattern": {
             "fillmode": "overlay",
             "size": 10,
             "solidity": 0.2
            },
            "type": "scatter"
           }
          ],
          "scatter3d": [
           {
            "line": {
             "colorbar": {
              "outlinewidth": 0,
              "ticks": ""
             }
            },
            "marker": {
             "colorbar": {
              "outlinewidth": 0,
              "ticks": ""
             }
            },
            "type": "scatter3d"
           }
          ],
          "scattercarpet": [
           {
            "marker": {
             "colorbar": {
              "outlinewidth": 0,
              "ticks": ""
             }
            },
            "type": "scattercarpet"
           }
          ],
          "scattergeo": [
           {
            "marker": {
             "colorbar": {
              "outlinewidth": 0,
              "ticks": ""
             }
            },
            "type": "scattergeo"
           }
          ],
          "scattergl": [
           {
            "marker": {
             "colorbar": {
              "outlinewidth": 0,
              "ticks": ""
             }
            },
            "type": "scattergl"
           }
          ],
          "scattermapbox": [
           {
            "marker": {
             "colorbar": {
              "outlinewidth": 0,
              "ticks": ""
             }
            },
            "type": "scattermapbox"
           }
          ],
          "scatterpolar": [
           {
            "marker": {
             "colorbar": {
              "outlinewidth": 0,
              "ticks": ""
             }
            },
            "type": "scatterpolar"
           }
          ],
          "scatterpolargl": [
           {
            "marker": {
             "colorbar": {
              "outlinewidth": 0,
              "ticks": ""
             }
            },
            "type": "scatterpolargl"
           }
          ],
          "scatterternary": [
           {
            "marker": {
             "colorbar": {
              "outlinewidth": 0,
              "ticks": ""
             }
            },
            "type": "scatterternary"
           }
          ],
          "surface": [
           {
            "colorbar": {
             "outlinewidth": 0,
             "ticks": ""
            },
            "colorscale": [
             [
              0,
              "#0d0887"
             ],
             [
              0.1111111111111111,
              "#46039f"
             ],
             [
              0.2222222222222222,
              "#7201a8"
             ],
             [
              0.3333333333333333,
              "#9c179e"
             ],
             [
              0.4444444444444444,
              "#bd3786"
             ],
             [
              0.5555555555555556,
              "#d8576b"
             ],
             [
              0.6666666666666666,
              "#ed7953"
             ],
             [
              0.7777777777777778,
              "#fb9f3a"
             ],
             [
              0.8888888888888888,
              "#fdca26"
             ],
             [
              1,
              "#f0f921"
             ]
            ],
            "type": "surface"
           }
          ],
          "table": [
           {
            "cells": {
             "fill": {
              "color": "#EBF0F8"
             },
             "line": {
              "color": "white"
             }
            },
            "header": {
             "fill": {
              "color": "#C8D4E3"
             },
             "line": {
              "color": "white"
             }
            },
            "type": "table"
           }
          ]
         },
         "layout": {
          "annotationdefaults": {
           "arrowcolor": "#2a3f5f",
           "arrowhead": 0,
           "arrowwidth": 1
          },
          "autotypenumbers": "strict",
          "coloraxis": {
           "colorbar": {
            "outlinewidth": 0,
            "ticks": ""
           }
          },
          "colorscale": {
           "diverging": [
            [
             0,
             "#8e0152"
            ],
            [
             0.1,
             "#c51b7d"
            ],
            [
             0.2,
             "#de77ae"
            ],
            [
             0.3,
             "#f1b6da"
            ],
            [
             0.4,
             "#fde0ef"
            ],
            [
             0.5,
             "#f7f7f7"
            ],
            [
             0.6,
             "#e6f5d0"
            ],
            [
             0.7,
             "#b8e186"
            ],
            [
             0.8,
             "#7fbc41"
            ],
            [
             0.9,
             "#4d9221"
            ],
            [
             1,
             "#276419"
            ]
           ],
           "sequential": [
            [
             0,
             "#0d0887"
            ],
            [
             0.1111111111111111,
             "#46039f"
            ],
            [
             0.2222222222222222,
             "#7201a8"
            ],
            [
             0.3333333333333333,
             "#9c179e"
            ],
            [
             0.4444444444444444,
             "#bd3786"
            ],
            [
             0.5555555555555556,
             "#d8576b"
            ],
            [
             0.6666666666666666,
             "#ed7953"
            ],
            [
             0.7777777777777778,
             "#fb9f3a"
            ],
            [
             0.8888888888888888,
             "#fdca26"
            ],
            [
             1,
             "#f0f921"
            ]
           ],
           "sequentialminus": [
            [
             0,
             "#0d0887"
            ],
            [
             0.1111111111111111,
             "#46039f"
            ],
            [
             0.2222222222222222,
             "#7201a8"
            ],
            [
             0.3333333333333333,
             "#9c179e"
            ],
            [
             0.4444444444444444,
             "#bd3786"
            ],
            [
             0.5555555555555556,
             "#d8576b"
            ],
            [
             0.6666666666666666,
             "#ed7953"
            ],
            [
             0.7777777777777778,
             "#fb9f3a"
            ],
            [
             0.8888888888888888,
             "#fdca26"
            ],
            [
             1,
             "#f0f921"
            ]
           ]
          },
          "colorway": [
           "#636efa",
           "#EF553B",
           "#00cc96",
           "#ab63fa",
           "#FFA15A",
           "#19d3f3",
           "#FF6692",
           "#B6E880",
           "#FF97FF",
           "#FECB52"
          ],
          "font": {
           "color": "#2a3f5f"
          },
          "geo": {
           "bgcolor": "white",
           "lakecolor": "white",
           "landcolor": "#E5ECF6",
           "showlakes": true,
           "showland": true,
           "subunitcolor": "white"
          },
          "hoverlabel": {
           "align": "left"
          },
          "hovermode": "closest",
          "mapbox": {
           "style": "light"
          },
          "paper_bgcolor": "white",
          "plot_bgcolor": "#E5ECF6",
          "polar": {
           "angularaxis": {
            "gridcolor": "white",
            "linecolor": "white",
            "ticks": ""
           },
           "bgcolor": "#E5ECF6",
           "radialaxis": {
            "gridcolor": "white",
            "linecolor": "white",
            "ticks": ""
           }
          },
          "scene": {
           "xaxis": {
            "backgroundcolor": "#E5ECF6",
            "gridcolor": "white",
            "gridwidth": 2,
            "linecolor": "white",
            "showbackground": true,
            "ticks": "",
            "zerolinecolor": "white"
           },
           "yaxis": {
            "backgroundcolor": "#E5ECF6",
            "gridcolor": "white",
            "gridwidth": 2,
            "linecolor": "white",
            "showbackground": true,
            "ticks": "",
            "zerolinecolor": "white"
           },
           "zaxis": {
            "backgroundcolor": "#E5ECF6",
            "gridcolor": "white",
            "gridwidth": 2,
            "linecolor": "white",
            "showbackground": true,
            "ticks": "",
            "zerolinecolor": "white"
           }
          },
          "shapedefaults": {
           "line": {
            "color": "#2a3f5f"
           }
          },
          "ternary": {
           "aaxis": {
            "gridcolor": "white",
            "linecolor": "white",
            "ticks": ""
           },
           "baxis": {
            "gridcolor": "white",
            "linecolor": "white",
            "ticks": ""
           },
           "bgcolor": "#E5ECF6",
           "caxis": {
            "gridcolor": "white",
            "linecolor": "white",
            "ticks": ""
           }
          },
          "title": {
           "x": 0.05
          },
          "xaxis": {
           "automargin": true,
           "gridcolor": "white",
           "linecolor": "white",
           "ticks": "",
           "title": {
            "standoff": 15
           },
           "zerolinecolor": "white",
           "zerolinewidth": 2
          },
          "yaxis": {
           "automargin": true,
           "gridcolor": "white",
           "linecolor": "white",
           "ticks": "",
           "title": {
            "standoff": 15
           },
           "zerolinecolor": "white",
           "zerolinewidth": 2
          }
         }
        },
        "title": {
         "text": "Pernoctaciones por Continente de Origen en las Comunidades Autónomas"
        }
       }
      },
      "text/html": [
       "<div>                            <div id=\"dc5fe43c-5bb2-4249-9501-7f38adc5a74f\" class=\"plotly-graph-div\" style=\"height:525px; width:100%;\"></div>            <script type=\"text/javascript\">                require([\"plotly\"], function(Plotly) {                    window.PLOTLYENV=window.PLOTLYENV || {};                                    if (document.getElementById(\"dc5fe43c-5bb2-4249-9501-7f38adc5a74f\")) {                    Plotly.newPlot(                        \"dc5fe43c-5bb2-4249-9501-7f38adc5a74f\",                        [{\"branchvalues\":\"total\",\"domain\":{\"x\":[0.0,1.0],\"y\":[0.0,1.0]},\"hovertemplate\":\"labels=%{label}<br>Total=%{value}<br>parent=%{parent}<br>id=%{id}<extra></extra>\",\"ids\":[\"Am\\u00e9rica/Andaluc\\u00eda\",\"Asia/Andaluc\\u00eda\",\"Europa/Andaluc\\u00eda\",\"Ocean\\u00eda /Andaluc\\u00eda\",\"Am\\u00e9rica/Arag\\u00f3n\",\"Asia/Arag\\u00f3n\",\"Europa/Arag\\u00f3n\",\"Ocean\\u00eda /Arag\\u00f3n\",\"Am\\u00e9rica/Asturias, Principado de\",\"Asia/Asturias, Principado de\",\"Europa/Asturias, Principado de\",\"Ocean\\u00eda /Asturias, Principado de\",\"Am\\u00e9rica/Balears, Illes\",\"Asia/Balears, Illes\",\"Europa/Balears, Illes\",\"Ocean\\u00eda /Balears, Illes\",\"Am\\u00e9rica/Canarias\",\"Asia/Canarias\",\"Europa/Canarias\",\"Ocean\\u00eda /Canarias\",\"Am\\u00e9rica/Cantabria\",\"Asia/Cantabria\",\"Europa/Cantabria\",\"Ocean\\u00eda /Cantabria\",\"Am\\u00e9rica/Castilla - La Mancha\",\"Asia/Castilla - La Mancha\",\"Europa/Castilla - La Mancha\",\"Ocean\\u00eda /Castilla - La Mancha\",\"Am\\u00e9rica/Castilla y Le\\u00f3n\",\"Asia/Castilla y Le\\u00f3n\",\"Europa/Castilla y Le\\u00f3n\",\"Ocean\\u00eda /Castilla y Le\\u00f3n\",\"Am\\u00e9rica/Catalu\\u00f1a\",\"Asia/Catalu\\u00f1a\",\"Europa/Catalu\\u00f1a\",\"Ocean\\u00eda /Catalu\\u00f1a\",\"Am\\u00e9rica/Ceuta\",\"Asia/Ceuta\",\"Europa/Ceuta\",\"Ocean\\u00eda /Ceuta\",\"Am\\u00e9rica/Comunitat Valenciana\",\"Asia/Comunitat Valenciana\",\"Europa/Comunitat Valenciana\",\"Ocean\\u00eda /Comunitat Valenciana\",\"Am\\u00e9rica/Extremadura\",\"Asia/Extremadura\",\"Europa/Extremadura\",\"Ocean\\u00eda /Extremadura\",\"Am\\u00e9rica/Galicia\",\"Asia/Galicia\",\"Europa/Galicia\",\"Ocean\\u00eda /Galicia\",\"Am\\u00e9rica/Madrid, Comunidad de\",\"Asia/Madrid, Comunidad de\",\"Europa/Madrid, Comunidad de\",\"Ocean\\u00eda /Madrid, Comunidad de\",\"Am\\u00e9rica/Melilla\",\"Asia/Melilla\",\"Europa/Melilla\",\"Ocean\\u00eda /Melilla\",\"Am\\u00e9rica/Murcia, Regi\\u00f3n de\",\"Asia/Murcia, Regi\\u00f3n de\",\"Europa/Murcia, Regi\\u00f3n de\",\"Ocean\\u00eda /Murcia, Regi\\u00f3n de\",\"Am\\u00e9rica/Navarra, Comunidad Foral de\",\"Asia/Navarra, Comunidad Foral de\",\"Europa/Navarra, Comunidad Foral de\",\"Ocean\\u00eda /Navarra, Comunidad Foral de\",\"Am\\u00e9rica/Pa\\u00eds Vasco\",\"Asia/Pa\\u00eds Vasco\",\"Europa/Pa\\u00eds Vasco\",\"Ocean\\u00eda /Pa\\u00eds Vasco\",\"Am\\u00e9rica/Rioja, La\",\"Asia/Rioja, La\",\"Europa/Rioja, La\",\"Ocean\\u00eda /Rioja, La\",\"Am\\u00e9rica\",\"Asia\",\"Europa\",\"Ocean\\u00eda \"],\"labels\":[\"Andaluc\\u00eda\",\"Andaluc\\u00eda\",\"Andaluc\\u00eda\",\"Andaluc\\u00eda\",\"Arag\\u00f3n\",\"Arag\\u00f3n\",\"Arag\\u00f3n\",\"Arag\\u00f3n\",\"Asturias, Principado de\",\"Asturias, Principado de\",\"Asturias, Principado de\",\"Asturias, Principado de\",\"Balears, Illes\",\"Balears, Illes\",\"Balears, Illes\",\"Balears, Illes\",\"Canarias\",\"Canarias\",\"Canarias\",\"Canarias\",\"Cantabria\",\"Cantabria\",\"Cantabria\",\"Cantabria\",\"Castilla - La Mancha\",\"Castilla - La Mancha\",\"Castilla - La Mancha\",\"Castilla - La Mancha\",\"Castilla y Le\\u00f3n\",\"Castilla y Le\\u00f3n\",\"Castilla y Le\\u00f3n\",\"Castilla y Le\\u00f3n\",\"Catalu\\u00f1a\",\"Catalu\\u00f1a\",\"Catalu\\u00f1a\",\"Catalu\\u00f1a\",\"Ceuta\",\"Ceuta\",\"Ceuta\",\"Ceuta\",\"Comunitat Valenciana\",\"Comunitat Valenciana\",\"Comunitat Valenciana\",\"Comunitat Valenciana\",\"Extremadura\",\"Extremadura\",\"Extremadura\",\"Extremadura\",\"Galicia\",\"Galicia\",\"Galicia\",\"Galicia\",\"Madrid, Comunidad de\",\"Madrid, Comunidad de\",\"Madrid, Comunidad de\",\"Madrid, Comunidad de\",\"Melilla\",\"Melilla\",\"Melilla\",\"Melilla\",\"Murcia, Regi\\u00f3n de\",\"Murcia, Regi\\u00f3n de\",\"Murcia, Regi\\u00f3n de\",\"Murcia, Regi\\u00f3n de\",\"Navarra, Comunidad Foral de\",\"Navarra, Comunidad Foral de\",\"Navarra, Comunidad Foral de\",\"Navarra, Comunidad Foral de\",\"Pa\\u00eds Vasco\",\"Pa\\u00eds Vasco\",\"Pa\\u00eds Vasco\",\"Pa\\u00eds Vasco\",\"Rioja, La\",\"Rioja, La\",\"Rioja, La\",\"Rioja, La\",\"Am\\u00e9rica\",\"Asia\",\"Europa\",\"Ocean\\u00eda \"],\"name\":\"\",\"parents\":[\"Am\\u00e9rica\",\"Asia\",\"Europa\",\"Ocean\\u00eda \",\"Am\\u00e9rica\",\"Asia\",\"Europa\",\"Ocean\\u00eda \",\"Am\\u00e9rica\",\"Asia\",\"Europa\",\"Ocean\\u00eda \",\"Am\\u00e9rica\",\"Asia\",\"Europa\",\"Ocean\\u00eda \",\"Am\\u00e9rica\",\"Asia\",\"Europa\",\"Ocean\\u00eda \",\"Am\\u00e9rica\",\"Asia\",\"Europa\",\"Ocean\\u00eda \",\"Am\\u00e9rica\",\"Asia\",\"Europa\",\"Ocean\\u00eda \",\"Am\\u00e9rica\",\"Asia\",\"Europa\",\"Ocean\\u00eda \",\"Am\\u00e9rica\",\"Asia\",\"Europa\",\"Ocean\\u00eda \",\"Am\\u00e9rica\",\"Asia\",\"Europa\",\"Ocean\\u00eda \",\"Am\\u00e9rica\",\"Asia\",\"Europa\",\"Ocean\\u00eda \",\"Am\\u00e9rica\",\"Asia\",\"Europa\",\"Ocean\\u00eda \",\"Am\\u00e9rica\",\"Asia\",\"Europa\",\"Ocean\\u00eda \",\"Am\\u00e9rica\",\"Asia\",\"Europa\",\"Ocean\\u00eda \",\"Am\\u00e9rica\",\"Asia\",\"Europa\",\"Ocean\\u00eda \",\"Am\\u00e9rica\",\"Asia\",\"Europa\",\"Ocean\\u00eda \",\"Am\\u00e9rica\",\"Asia\",\"Europa\",\"Ocean\\u00eda \",\"Am\\u00e9rica\",\"Asia\",\"Europa\",\"Ocean\\u00eda \",\"Am\\u00e9rica\",\"Asia\",\"Europa\",\"Ocean\\u00eda \",\"\",\"\",\"\",\"\"],\"values\":[584000,68000,15378000,19000,19000,2000,967000,0,24000,1000,1251000,0,161000,21000,5950000,9000,124000,18000,10995000,10000,19000,1000,1136000,0,16000,1000,670000,0,36000,2000,1191000,0,752000,91000,9756000,18000,0,0,3000,0,321000,27000,10241000,8000,4000,0,337000,0,57000,3000,2365000,0,906000,52000,2870000,7000,0,0,3000,0,16000,3000,911000,0,11000,1000,269000,0,71000,5000,1003000,2000,7000,0,264000,0,3128000,296000,65560000,73000],\"type\":\"treemap\"}],                        {\"template\":{\"data\":{\"histogram2dcontour\":[{\"type\":\"histogram2dcontour\",\"colorbar\":{\"outlinewidth\":0,\"ticks\":\"\"},\"colorscale\":[[0.0,\"#0d0887\"],[0.1111111111111111,\"#46039f\"],[0.2222222222222222,\"#7201a8\"],[0.3333333333333333,\"#9c179e\"],[0.4444444444444444,\"#bd3786\"],[0.5555555555555556,\"#d8576b\"],[0.6666666666666666,\"#ed7953\"],[0.7777777777777778,\"#fb9f3a\"],[0.8888888888888888,\"#fdca26\"],[1.0,\"#f0f921\"]]}],\"choropleth\":[{\"type\":\"choropleth\",\"colorbar\":{\"outlinewidth\":0,\"ticks\":\"\"}}],\"histogram2d\":[{\"type\":\"histogram2d\",\"colorbar\":{\"outlinewidth\":0,\"ticks\":\"\"},\"colorscale\":[[0.0,\"#0d0887\"],[0.1111111111111111,\"#46039f\"],[0.2222222222222222,\"#7201a8\"],[0.3333333333333333,\"#9c179e\"],[0.4444444444444444,\"#bd3786\"],[0.5555555555555556,\"#d8576b\"],[0.6666666666666666,\"#ed7953\"],[0.7777777777777778,\"#fb9f3a\"],[0.8888888888888888,\"#fdca26\"],[1.0,\"#f0f921\"]]}],\"heatmap\":[{\"type\":\"heatmap\",\"colorbar\":{\"outlinewidth\":0,\"ticks\":\"\"},\"colorscale\":[[0.0,\"#0d0887\"],[0.1111111111111111,\"#46039f\"],[0.2222222222222222,\"#7201a8\"],[0.3333333333333333,\"#9c179e\"],[0.4444444444444444,\"#bd3786\"],[0.5555555555555556,\"#d8576b\"],[0.6666666666666666,\"#ed7953\"],[0.7777777777777778,\"#fb9f3a\"],[0.8888888888888888,\"#fdca26\"],[1.0,\"#f0f921\"]]}],\"heatmapgl\":[{\"type\":\"heatmapgl\",\"colorbar\":{\"outlinewidth\":0,\"ticks\":\"\"},\"colorscale\":[[0.0,\"#0d0887\"],[0.1111111111111111,\"#46039f\"],[0.2222222222222222,\"#7201a8\"],[0.3333333333333333,\"#9c179e\"],[0.4444444444444444,\"#bd3786\"],[0.5555555555555556,\"#d8576b\"],[0.6666666666666666,\"#ed7953\"],[0.7777777777777778,\"#fb9f3a\"],[0.8888888888888888,\"#fdca26\"],[1.0,\"#f0f921\"]]}],\"contourcarpet\":[{\"type\":\"contourcarpet\",\"colorbar\":{\"outlinewidth\":0,\"ticks\":\"\"}}],\"contour\":[{\"type\":\"contour\",\"colorbar\":{\"outlinewidth\":0,\"ticks\":\"\"},\"colorscale\":[[0.0,\"#0d0887\"],[0.1111111111111111,\"#46039f\"],[0.2222222222222222,\"#7201a8\"],[0.3333333333333333,\"#9c179e\"],[0.4444444444444444,\"#bd3786\"],[0.5555555555555556,\"#d8576b\"],[0.6666666666666666,\"#ed7953\"],[0.7777777777777778,\"#fb9f3a\"],[0.8888888888888888,\"#fdca26\"],[1.0,\"#f0f921\"]]}],\"surface\":[{\"type\":\"surface\",\"colorbar\":{\"outlinewidth\":0,\"ticks\":\"\"},\"colorscale\":[[0.0,\"#0d0887\"],[0.1111111111111111,\"#46039f\"],[0.2222222222222222,\"#7201a8\"],[0.3333333333333333,\"#9c179e\"],[0.4444444444444444,\"#bd3786\"],[0.5555555555555556,\"#d8576b\"],[0.6666666666666666,\"#ed7953\"],[0.7777777777777778,\"#fb9f3a\"],[0.8888888888888888,\"#fdca26\"],[1.0,\"#f0f921\"]]}],\"mesh3d\":[{\"type\":\"mesh3d\",\"colorbar\":{\"outlinewidth\":0,\"ticks\":\"\"}}],\"scatter\":[{\"fillpattern\":{\"fillmode\":\"overlay\",\"size\":10,\"solidity\":0.2},\"type\":\"scatter\"}],\"parcoords\":[{\"type\":\"parcoords\",\"line\":{\"colorbar\":{\"outlinewidth\":0,\"ticks\":\"\"}}}],\"scatterpolargl\":[{\"type\":\"scatterpolargl\",\"marker\":{\"colorbar\":{\"outlinewidth\":0,\"ticks\":\"\"}}}],\"bar\":[{\"error_x\":{\"color\":\"#2a3f5f\"},\"error_y\":{\"color\":\"#2a3f5f\"},\"marker\":{\"line\":{\"color\":\"#E5ECF6\",\"width\":0.5},\"pattern\":{\"fillmode\":\"overlay\",\"size\":10,\"solidity\":0.2}},\"type\":\"bar\"}],\"scattergeo\":[{\"type\":\"scattergeo\",\"marker\":{\"colorbar\":{\"outlinewidth\":0,\"ticks\":\"\"}}}],\"scatterpolar\":[{\"type\":\"scatterpolar\",\"marker\":{\"colorbar\":{\"outlinewidth\":0,\"ticks\":\"\"}}}],\"histogram\":[{\"marker\":{\"pattern\":{\"fillmode\":\"overlay\",\"size\":10,\"solidity\":0.2}},\"type\":\"histogram\"}],\"scattergl\":[{\"type\":\"scattergl\",\"marker\":{\"colorbar\":{\"outlinewidth\":0,\"ticks\":\"\"}}}],\"scatter3d\":[{\"type\":\"scatter3d\",\"line\":{\"colorbar\":{\"outlinewidth\":0,\"ticks\":\"\"}},\"marker\":{\"colorbar\":{\"outlinewidth\":0,\"ticks\":\"\"}}}],\"scattermapbox\":[{\"type\":\"scattermapbox\",\"marker\":{\"colorbar\":{\"outlinewidth\":0,\"ticks\":\"\"}}}],\"scatterternary\":[{\"type\":\"scatterternary\",\"marker\":{\"colorbar\":{\"outlinewidth\":0,\"ticks\":\"\"}}}],\"scattercarpet\":[{\"type\":\"scattercarpet\",\"marker\":{\"colorbar\":{\"outlinewidth\":0,\"ticks\":\"\"}}}],\"carpet\":[{\"aaxis\":{\"endlinecolor\":\"#2a3f5f\",\"gridcolor\":\"white\",\"linecolor\":\"white\",\"minorgridcolor\":\"white\",\"startlinecolor\":\"#2a3f5f\"},\"baxis\":{\"endlinecolor\":\"#2a3f5f\",\"gridcolor\":\"white\",\"linecolor\":\"white\",\"minorgridcolor\":\"white\",\"startlinecolor\":\"#2a3f5f\"},\"type\":\"carpet\"}],\"table\":[{\"cells\":{\"fill\":{\"color\":\"#EBF0F8\"},\"line\":{\"color\":\"white\"}},\"header\":{\"fill\":{\"color\":\"#C8D4E3\"},\"line\":{\"color\":\"white\"}},\"type\":\"table\"}],\"barpolar\":[{\"marker\":{\"line\":{\"color\":\"#E5ECF6\",\"width\":0.5},\"pattern\":{\"fillmode\":\"overlay\",\"size\":10,\"solidity\":0.2}},\"type\":\"barpolar\"}],\"pie\":[{\"automargin\":true,\"type\":\"pie\"}]},\"layout\":{\"autotypenumbers\":\"strict\",\"colorway\":[\"#636efa\",\"#EF553B\",\"#00cc96\",\"#ab63fa\",\"#FFA15A\",\"#19d3f3\",\"#FF6692\",\"#B6E880\",\"#FF97FF\",\"#FECB52\"],\"font\":{\"color\":\"#2a3f5f\"},\"hovermode\":\"closest\",\"hoverlabel\":{\"align\":\"left\"},\"paper_bgcolor\":\"white\",\"plot_bgcolor\":\"#E5ECF6\",\"polar\":{\"bgcolor\":\"#E5ECF6\",\"angularaxis\":{\"gridcolor\":\"white\",\"linecolor\":\"white\",\"ticks\":\"\"},\"radialaxis\":{\"gridcolor\":\"white\",\"linecolor\":\"white\",\"ticks\":\"\"}},\"ternary\":{\"bgcolor\":\"#E5ECF6\",\"aaxis\":{\"gridcolor\":\"white\",\"linecolor\":\"white\",\"ticks\":\"\"},\"baxis\":{\"gridcolor\":\"white\",\"linecolor\":\"white\",\"ticks\":\"\"},\"caxis\":{\"gridcolor\":\"white\",\"linecolor\":\"white\",\"ticks\":\"\"}},\"coloraxis\":{\"colorbar\":{\"outlinewidth\":0,\"ticks\":\"\"}},\"colorscale\":{\"sequential\":[[0.0,\"#0d0887\"],[0.1111111111111111,\"#46039f\"],[0.2222222222222222,\"#7201a8\"],[0.3333333333333333,\"#9c179e\"],[0.4444444444444444,\"#bd3786\"],[0.5555555555555556,\"#d8576b\"],[0.6666666666666666,\"#ed7953\"],[0.7777777777777778,\"#fb9f3a\"],[0.8888888888888888,\"#fdca26\"],[1.0,\"#f0f921\"]],\"sequentialminus\":[[0.0,\"#0d0887\"],[0.1111111111111111,\"#46039f\"],[0.2222222222222222,\"#7201a8\"],[0.3333333333333333,\"#9c179e\"],[0.4444444444444444,\"#bd3786\"],[0.5555555555555556,\"#d8576b\"],[0.6666666666666666,\"#ed7953\"],[0.7777777777777778,\"#fb9f3a\"],[0.8888888888888888,\"#fdca26\"],[1.0,\"#f0f921\"]],\"diverging\":[[0,\"#8e0152\"],[0.1,\"#c51b7d\"],[0.2,\"#de77ae\"],[0.3,\"#f1b6da\"],[0.4,\"#fde0ef\"],[0.5,\"#f7f7f7\"],[0.6,\"#e6f5d0\"],[0.7,\"#b8e186\"],[0.8,\"#7fbc41\"],[0.9,\"#4d9221\"],[1,\"#276419\"]]},\"xaxis\":{\"gridcolor\":\"white\",\"linecolor\":\"white\",\"ticks\":\"\",\"title\":{\"standoff\":15},\"zerolinecolor\":\"white\",\"automargin\":true,\"zerolinewidth\":2},\"yaxis\":{\"gridcolor\":\"white\",\"linecolor\":\"white\",\"ticks\":\"\",\"title\":{\"standoff\":15},\"zerolinecolor\":\"white\",\"automargin\":true,\"zerolinewidth\":2},\"scene\":{\"xaxis\":{\"backgroundcolor\":\"#E5ECF6\",\"gridcolor\":\"white\",\"linecolor\":\"white\",\"showbackground\":true,\"ticks\":\"\",\"zerolinecolor\":\"white\",\"gridwidth\":2},\"yaxis\":{\"backgroundcolor\":\"#E5ECF6\",\"gridcolor\":\"white\",\"linecolor\":\"white\",\"showbackground\":true,\"ticks\":\"\",\"zerolinecolor\":\"white\",\"gridwidth\":2},\"zaxis\":{\"backgroundcolor\":\"#E5ECF6\",\"gridcolor\":\"white\",\"linecolor\":\"white\",\"showbackground\":true,\"ticks\":\"\",\"zerolinecolor\":\"white\",\"gridwidth\":2}},\"shapedefaults\":{\"line\":{\"color\":\"#2a3f5f\"}},\"annotationdefaults\":{\"arrowcolor\":\"#2a3f5f\",\"arrowhead\":0,\"arrowwidth\":1},\"geo\":{\"bgcolor\":\"white\",\"landcolor\":\"#E5ECF6\",\"subunitcolor\":\"white\",\"showland\":true,\"showlakes\":true,\"lakecolor\":\"white\"},\"title\":{\"x\":0.05},\"mapbox\":{\"style\":\"light\"}}},\"legend\":{\"tracegroupgap\":0},\"title\":{\"text\":\"Pernoctaciones por Continente de Origen en las Comunidades Aut\\u00f3nomas\"},\"annotations\":[{\"showarrow\":false,\"text\":\"Datos extra\\u00eddos del <a href=\\\"https://www.ine.es/jaxiT3/Tabla.htm?t=48434&L=0\\\">Instituto Nacional de Estad\\u00edstica</a>\",\"x\":0.5,\"xref\":\"paper\",\"y\":-0.1,\"yref\":\"paper\"}]},                        {\"responsive\": true}                    ).then(function(){\n",
       "                            \n",
       "var gd = document.getElementById('dc5fe43c-5bb2-4249-9501-7f38adc5a74f');\n",
       "var x = new MutationObserver(function (mutations, observer) {{\n",
       "        var display = window.getComputedStyle(gd).display;\n",
       "        if (!display || display === 'none') {{\n",
       "            console.log([gd, 'removed!']);\n",
       "            Plotly.purge(gd);\n",
       "            observer.disconnect();\n",
       "        }}\n",
       "}});\n",
       "\n",
       "// Listen for the removal of the full notebook cells\n",
       "var notebookContainer = gd.closest('#notebook-container');\n",
       "if (notebookContainer) {{\n",
       "    x.observe(notebookContainer, {childList: true});\n",
       "}}\n",
       "\n",
       "// Listen for the clearing of the current output cell\n",
       "var outputEl = gd.closest('.output');\n",
       "if (outputEl) {{\n",
       "    x.observe(outputEl, {childList: true});\n",
       "}}\n",
       "\n",
       "                        })                };                });            </script>        </div>"
      ]
     },
     "metadata": {},
     "output_type": "display_data"
    }
   ],
   "source": [
    "# Crear el treemap\n",
    "fig = px.treemap(df, path=['Continentes', 'Comunidades y Ciudades Autónomas'], values='Total', title='Pernoctaciones por Continente de Origen en las Comunidades Autónomas')\n",
    "                \n",
    "# Agregar un pie de gráfico\n",
    "fig.add_annotation(\n",
    "    text='Datos extraídos del <a href=\"https://www.ine.es/jaxiT3/Tabla.htm?t=48434&L=0\">Instituto Nacional de Estadística</a>',\n",
    "    showarrow=False,\n",
    "    xref='paper', yref='paper',\n",
    "    x=0.5, y=-0.1\n",
    ")\n",
    "\n",
    "# Mostrar el treemap\n",
    "fig.show()\n",
    "\n",
    "# Exportar el gráfico en formato HTML interactivo\n",
    "fig.write_html(\"pec2_treemap.html\")"
   ]
  }
 ],
 "metadata": {
  "kernelspec": {
   "display_name": "Python 3 (ipykernel)",
   "language": "python",
   "name": "python3"
  },
  "language_info": {
   "codemirror_mode": {
    "name": "ipython",
    "version": 3
   },
   "file_extension": ".py",
   "mimetype": "text/x-python",
   "name": "python",
   "nbconvert_exporter": "python",
   "pygments_lexer": "ipython3",
   "version": "3.10.9"
  }
 },
 "nbformat": 4,
 "nbformat_minor": 5
}
